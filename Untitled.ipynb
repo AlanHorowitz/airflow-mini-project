{
 "cells": [
  {
   "cell_type": "code",
   "execution_count": 2,
   "id": "c209adb4",
   "metadata": {},
   "outputs": [],
   "source": [
    "import pandas as pd"
   ]
  },
  {
   "cell_type": "code",
   "execution_count": 20,
   "id": "38183d5b",
   "metadata": {},
   "outputs": [],
   "source": [
    "df_cols = ['Datetime','Open','High','Low','Close','Adj Close','Volume']\n",
    "\n",
    "tickers = ['AAPL', 'TSLA']\n",
    "df_aapl = pd.read_csv('AAPL.csv', header=None, names=df_cols)\n",
    "df_tsla = pd.read_csv('TSLA.csv', header=None, names=df_cols)"
   ]
  },
  {
   "cell_type": "code",
   "execution_count": 21,
   "id": "3aceefe3",
   "metadata": {},
   "outputs": [],
   "source": [
    "output_dfs = []\n",
    "for ticker in tickers:\n",
    "    df = pd.read_csv(ticker + '.csv', header=None, names=df_cols)\n",
    "    df['Swing'] = abs(df['High'] - df['Low'])\n",
    "    max_swing_df = df[df['Swing'] == max(df['Swing'])].copy()\n",
    "    max_swing_df['Type'] = 'Max Swing'\n",
    "    max_swing_df['Ticker'] = ticker\n",
    "    \n",
    "    max_volume_df = df[df['Volume'] == max(df['Volume'])].copy()\n",
    "    max_volume_df['Type'] = 'Max Volume'\n",
    "    max_volume_df['Ticker'] = ticker\n",
    "    \n",
    "    output_dfs.extend([max_swing_df, max_volume_df])\n",
    "    \n",
    "    "
   ]
  },
  {
   "cell_type": "code",
   "execution_count": 29,
   "id": "d36a7de5",
   "metadata": {},
   "outputs": [],
   "source": [
    "result = pd.concat(output_dfs)"
   ]
  },
  {
   "cell_type": "code",
   "execution_count": 38,
   "id": "00ede2a4",
   "metadata": {},
   "outputs": [],
   "source": [
    "result = result.drop(columns=['Open', 'Close', 'Adj Close'])"
   ]
  },
  {
   "cell_type": "code",
   "execution_count": 42,
   "id": "d19a1776",
   "metadata": {},
   "outputs": [],
   "source": [
    "result[\"Time\"] = result['Datetime'].str.slice(start=11)"
   ]
  },
  {
   "cell_type": "code",
   "execution_count": 46,
   "id": "74e813ae",
   "metadata": {},
   "outputs": [
    {
     "data": {
      "text/html": [
       "<div>\n",
       "<style scoped>\n",
       "    .dataframe tbody tr th:only-of-type {\n",
       "        vertical-align: middle;\n",
       "    }\n",
       "\n",
       "    .dataframe tbody tr th {\n",
       "        vertical-align: top;\n",
       "    }\n",
       "\n",
       "    .dataframe thead th {\n",
       "        text-align: right;\n",
       "    }\n",
       "</style>\n",
       "<table border=\"1\" class=\"dataframe\">\n",
       "  <thead>\n",
       "    <tr style=\"text-align: right;\">\n",
       "      <th></th>\n",
       "      <th></th>\n",
       "      <th></th>\n",
       "      <th>High</th>\n",
       "      <th>Low</th>\n",
       "      <th>Volume</th>\n",
       "      <th>Swing</th>\n",
       "    </tr>\n",
       "    <tr>\n",
       "      <th>Type</th>\n",
       "      <th>Ticker</th>\n",
       "      <th>Time</th>\n",
       "      <th></th>\n",
       "      <th></th>\n",
       "      <th></th>\n",
       "      <th></th>\n",
       "    </tr>\n",
       "  </thead>\n",
       "  <tbody>\n",
       "    <tr>\n",
       "      <th>Max Swing</th>\n",
       "      <th>AAPL</th>\n",
       "      <th>09:30:00-04:00</th>\n",
       "      <td>136.419998</td>\n",
       "      <td>136.089996</td>\n",
       "      <td>1898923</td>\n",
       "      <td>0.330002</td>\n",
       "    </tr>\n",
       "    <tr>\n",
       "      <th>Max Volume</th>\n",
       "      <th>AAPL</th>\n",
       "      <th>09:30:00-04:00</th>\n",
       "      <td>136.419998</td>\n",
       "      <td>136.089996</td>\n",
       "      <td>1898923</td>\n",
       "      <td>0.330002</td>\n",
       "    </tr>\n",
       "    <tr>\n",
       "      <th>Max Swing</th>\n",
       "      <th>TSLA</th>\n",
       "      <th>15:50:00-04:00</th>\n",
       "      <td>673.909973</td>\n",
       "      <td>669.900024</td>\n",
       "      <td>282656</td>\n",
       "      <td>4.009949</td>\n",
       "    </tr>\n",
       "    <tr>\n",
       "      <th>Max Volume</th>\n",
       "      <th>TSLA</th>\n",
       "      <th>09:30:00-04:00</th>\n",
       "      <td>689.640015</td>\n",
       "      <td>686.440002</td>\n",
       "      <td>1023025</td>\n",
       "      <td>3.200012</td>\n",
       "    </tr>\n",
       "  </tbody>\n",
       "</table>\n",
       "</div>"
      ],
      "text/plain": [
       "                                        High         Low   Volume     Swing\n",
       "Type       Ticker Time                                                     \n",
       "Max Swing  AAPL   09:30:00-04:00  136.419998  136.089996  1898923  0.330002\n",
       "Max Volume AAPL   09:30:00-04:00  136.419998  136.089996  1898923  0.330002\n",
       "Max Swing  TSLA   15:50:00-04:00  673.909973  669.900024   282656  4.009949\n",
       "Max Volume TSLA   09:30:00-04:00  689.640015  686.440002  1023025  3.200012"
      ]
     },
     "execution_count": 46,
     "metadata": {},
     "output_type": "execute_result"
    }
   ],
   "source": [
    "result.drop(columns=['Datetime']).set_index(['Type', 'Ticker', 'Time'])"
   ]
  },
  {
   "cell_type": "code",
   "execution_count": 13,
   "id": "d67d674c",
   "metadata": {},
   "outputs": [],
   "source": [
    "df_a['Swing'] = abs(df_a['High'] - df_a['Low'])\n",
    "df1 = df[df['Swing'] == max(df['Swing'])].copy()\n",
    "df1['Type'] = 'Max Swing'\n",
    "df1['Ticker'] = 'AAPL'"
   ]
  },
  {
   "cell_type": "code",
   "execution_count": 14,
   "id": "26414188",
   "metadata": {},
   "outputs": [],
   "source": [
    "df2 = df[df['Volume'] == max(df['Volume'])].copy()\n",
    "df2['Type'] = 'Max Volume'\n",
    "df2['Ticker'] = 'AAPL'"
   ]
  },
  {
   "cell_type": "code",
   "execution_count": 15,
   "id": "c8338161",
   "metadata": {},
   "outputs": [
    {
     "data": {
      "text/html": [
       "<div>\n",
       "<style scoped>\n",
       "    .dataframe tbody tr th:only-of-type {\n",
       "        vertical-align: middle;\n",
       "    }\n",
       "\n",
       "    .dataframe tbody tr th {\n",
       "        vertical-align: top;\n",
       "    }\n",
       "\n",
       "    .dataframe thead th {\n",
       "        text-align: right;\n",
       "    }\n",
       "</style>\n",
       "<table border=\"1\" class=\"dataframe\">\n",
       "  <thead>\n",
       "    <tr style=\"text-align: right;\">\n",
       "      <th></th>\n",
       "      <th>Datetime</th>\n",
       "      <th>Open</th>\n",
       "      <th>High</th>\n",
       "      <th>Low</th>\n",
       "      <th>Close</th>\n",
       "      <th>Adj Close</th>\n",
       "      <th>Volume</th>\n",
       "      <th>Swing</th>\n",
       "      <th>Type</th>\n",
       "      <th>Ticker</th>\n",
       "    </tr>\n",
       "  </thead>\n",
       "  <tbody>\n",
       "    <tr>\n",
       "      <th>0</th>\n",
       "      <td>2021-06-30 09:30:00-04:00</td>\n",
       "      <td>136.169998</td>\n",
       "      <td>136.419998</td>\n",
       "      <td>136.089996</td>\n",
       "      <td>136.320007</td>\n",
       "      <td>136.320007</td>\n",
       "      <td>1898923</td>\n",
       "      <td>0.330002</td>\n",
       "      <td>Max Volume</td>\n",
       "      <td>AAPL</td>\n",
       "    </tr>\n",
       "  </tbody>\n",
       "</table>\n",
       "</div>"
      ],
      "text/plain": [
       "                    Datetime        Open        High         Low       Close  \\\n",
       "0  2021-06-30 09:30:00-04:00  136.169998  136.419998  136.089996  136.320007   \n",
       "\n",
       "    Adj Close   Volume     Swing        Type Ticker  \n",
       "0  136.320007  1898923  0.330002  Max Volume   AAPL  "
      ]
     },
     "execution_count": 15,
     "metadata": {},
     "output_type": "execute_result"
    }
   ],
   "source": [
    "df2"
   ]
  },
  {
   "cell_type": "code",
   "execution_count": 16,
   "id": "9db724f1",
   "metadata": {},
   "outputs": [],
   "source": [
    "result = pd.concat([df1, df2])"
   ]
  },
  {
   "cell_type": "code",
   "execution_count": 18,
   "id": "8b3ca01b",
   "metadata": {},
   "outputs": [
    {
     "data": {
      "text/html": [
       "<div>\n",
       "<style scoped>\n",
       "    .dataframe tbody tr th:only-of-type {\n",
       "        vertical-align: middle;\n",
       "    }\n",
       "\n",
       "    .dataframe tbody tr th {\n",
       "        vertical-align: top;\n",
       "    }\n",
       "\n",
       "    .dataframe thead th {\n",
       "        text-align: right;\n",
       "    }\n",
       "</style>\n",
       "<table border=\"1\" class=\"dataframe\">\n",
       "  <thead>\n",
       "    <tr style=\"text-align: right;\">\n",
       "      <th></th>\n",
       "      <th></th>\n",
       "      <th>Datetime</th>\n",
       "      <th>Open</th>\n",
       "      <th>High</th>\n",
       "      <th>Low</th>\n",
       "      <th>Close</th>\n",
       "      <th>Adj Close</th>\n",
       "      <th>Volume</th>\n",
       "      <th>Swing</th>\n",
       "    </tr>\n",
       "    <tr>\n",
       "      <th>Type</th>\n",
       "      <th>Ticker</th>\n",
       "      <th></th>\n",
       "      <th></th>\n",
       "      <th></th>\n",
       "      <th></th>\n",
       "      <th></th>\n",
       "      <th></th>\n",
       "      <th></th>\n",
       "      <th></th>\n",
       "    </tr>\n",
       "  </thead>\n",
       "  <tbody>\n",
       "    <tr>\n",
       "      <th>Max Swing</th>\n",
       "      <th>AAPL</th>\n",
       "      <td>2021-06-30 09:30:00-04:00</td>\n",
       "      <td>136.169998</td>\n",
       "      <td>136.419998</td>\n",
       "      <td>136.089996</td>\n",
       "      <td>136.320007</td>\n",
       "      <td>136.320007</td>\n",
       "      <td>1898923</td>\n",
       "      <td>0.330002</td>\n",
       "    </tr>\n",
       "    <tr>\n",
       "      <th>Max Volume</th>\n",
       "      <th>AAPL</th>\n",
       "      <td>2021-06-30 09:30:00-04:00</td>\n",
       "      <td>136.169998</td>\n",
       "      <td>136.419998</td>\n",
       "      <td>136.089996</td>\n",
       "      <td>136.320007</td>\n",
       "      <td>136.320007</td>\n",
       "      <td>1898923</td>\n",
       "      <td>0.330002</td>\n",
       "    </tr>\n",
       "  </tbody>\n",
       "</table>\n",
       "</div>"
      ],
      "text/plain": [
       "                                    Datetime        Open        High  \\\n",
       "Type       Ticker                                                      \n",
       "Max Swing  AAPL    2021-06-30 09:30:00-04:00  136.169998  136.419998   \n",
       "Max Volume AAPL    2021-06-30 09:30:00-04:00  136.169998  136.419998   \n",
       "\n",
       "                          Low       Close   Adj Close   Volume     Swing  \n",
       "Type       Ticker                                                         \n",
       "Max Swing  AAPL    136.089996  136.320007  136.320007  1898923  0.330002  \n",
       "Max Volume AAPL    136.089996  136.320007  136.320007  1898923  0.330002  "
      ]
     },
     "execution_count": 18,
     "metadata": {},
     "output_type": "execute_result"
    }
   ],
   "source": [
    "result.set_index(['Type', 'Ticker'])"
   ]
  },
  {
   "cell_type": "code",
   "execution_count": null,
   "id": "a5b67869",
   "metadata": {},
   "outputs": [],
   "source": []
  }
 ],
 "metadata": {
  "kernelspec": {
   "display_name": "Python 3 (ipykernel)",
   "language": "python",
   "name": "python3"
  },
  "language_info": {
   "codemirror_mode": {
    "name": "ipython",
    "version": 3
   },
   "file_extension": ".py",
   "mimetype": "text/x-python",
   "name": "python",
   "nbconvert_exporter": "python",
   "pygments_lexer": "ipython3",
   "version": "3.8.5"
  }
 },
 "nbformat": 4,
 "nbformat_minor": 5
}
